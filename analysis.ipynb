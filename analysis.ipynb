{
 "cells": [
  {
   "cell_type": "code",
   "execution_count": 8,
   "id": "f9fcc8a5",
   "metadata": {},
   "outputs": [],
   "source": [
    "import numpy as np\n",
    "import pandas as pd"
   ]
  },
  {
   "cell_type": "code",
   "execution_count": 9,
   "id": "fdf27839",
   "metadata": {},
   "outputs": [
    {
     "data": {
      "text/plain": [
       "current_status\n",
       "Hospitalized    8301\n",
       "Recovered        139\n",
       "Deceased          30\n",
       "Migrated           1\n",
       "Name: count, dtype: int64"
      ]
     },
     "execution_count": 9,
     "metadata": {},
     "output_type": "execute_result"
    }
   ],
   "source": [
    "patients = pd.read_csv('IndividualDetails.csv')\n",
    "patients['current_status'].value_counts()"
   ]
  },
  {
   "cell_type": "code",
   "execution_count": 10,
   "id": "b03b720f",
   "metadata": {},
   "outputs": [],
   "source": [
    "total = patients.shape[0]\n",
    "active = patients[patients['current_status'] == 'Hospitalized'].shape[0]\n",
    "recovered = patients[patients['current_status'] == 'Recovered'].shape[0]\n",
    "deaths = patients[patients['current_status'] == 'Deceased'].shape[0]"
   ]
  },
  {
   "cell_type": "code",
   "execution_count": 11,
   "id": "4648db0c",
   "metadata": {},
   "outputs": [
    {
     "name": "stdout",
     "output_type": "stream",
     "text": [
      "8472 8301 139 30\n"
     ]
    }
   ],
   "source": [
    "print(total, active, recovered, deaths)"
   ]
  },
  {
   "cell_type": "code",
   "execution_count": null,
   "id": "0da21152",
   "metadata": {},
   "outputs": [],
   "source": []
  }
 ],
 "metadata": {
  "kernelspec": {
   "display_name": "Python 3",
   "language": "python",
   "name": "python3"
  },
  "language_info": {
   "codemirror_mode": {
    "name": "ipython",
    "version": 3
   },
   "file_extension": ".py",
   "mimetype": "text/x-python",
   "name": "python",
   "nbconvert_exporter": "python",
   "pygments_lexer": "ipython3",
   "version": "3.11.9"
  }
 },
 "nbformat": 4,
 "nbformat_minor": 5
}
